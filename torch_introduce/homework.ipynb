{
  "nbformat": 4,
  "nbformat_minor": 0,
  "metadata": {
    "colab": {
      "provenance": []
    },
    "kernelspec": {
      "name": "python3",
      "display_name": "Python 3"
    },
    "language_info": {
      "name": "python"
    }
  },
  "cells": [
    {
      "cell_type": "code",
      "source": [
        "import torch\n",
        "import pandas as pd\n",
        "import numpy as np"
      ],
      "metadata": {
        "id": "jmYUSvCil5ai"
      },
      "execution_count": 52,
      "outputs": []
    },
    {
      "cell_type": "markdown",
      "source": [
        "# Загрузка датасета"
      ],
      "metadata": {
        "id": "098TUclnk7DR"
      }
    },
    {
      "cell_type": "code",
      "execution_count": 53,
      "metadata": {
        "id": "sPBxxKX0jZyQ"
      },
      "outputs": [],
      "source": [
        "from sklearn.datasets import load_iris\n",
        "iris = load_iris()\n",
        "X = torch.tensor(iris.data, dtype=torch.float32)\n",
        "y = torch.tensor(iris.target, dtype=torch.long)\n",
        "None"
      ]
    },
    {
      "cell_type": "markdown",
      "source": [
        "# Класс нейронной сети"
      ],
      "metadata": {
        "id": "B6OktGnzrumb"
      }
    },
    {
      "cell_type": "code",
      "source": [
        "import torch.nn as nn\n",
        "class NeuralClassifier(nn.Module):\n",
        "  def __init__(self, num_inputs, num_outputs):\n",
        "    super().__init__()\n",
        "\n",
        "    self.layers = nn.Sequential(\n",
        "        # 1st layer\n",
        "        nn.Linear(num_inputs, 16),\n",
        "        nn.ReLU(),\n",
        "\n",
        "        #2nd layer\n",
        "        nn.Linear(16, 16),\n",
        "        nn.ReLU(),\n",
        "\n",
        "        #3rd layer\n",
        "        nn.Linear(16, num_outputs)\n",
        "    )\n",
        "\n",
        "  def forward(self, x):\n",
        "    return self.layers(x)"
      ],
      "metadata": {
        "id": "R8mjhdAKrqAj"
      },
      "execution_count": 54,
      "outputs": []
    },
    {
      "cell_type": "markdown",
      "source": [
        "## Разбиение на train/test"
      ],
      "metadata": {
        "id": "RAEmmkUi79cH"
      }
    },
    {
      "cell_type": "code",
      "source": [
        "from sklearn.model_selection import train_test_split\n",
        "X_train, X_test, y_train, y_test = train_test_split(X, y, test_size=0.2, random_state=42)\n"
      ],
      "metadata": {
        "id": "xk-bPtyklMqq"
      },
      "execution_count": 65,
      "outputs": []
    },
    {
      "cell_type": "markdown",
      "source": [
        "## Обучение"
      ],
      "metadata": {
        "id": "5XIagOPl5yvE"
      }
    },
    {
      "cell_type": "code",
      "source": [
        "from torch.optim import SGD\n",
        "\n",
        "model = NeuralClassifier(4, 3)\n",
        "loss_func = nn.CrossEntropyLoss()\n",
        "optimizer = SGD(model.parameters(), lr=0.01)\n",
        "\n",
        "for _ in range(1000):\n",
        "  y_pred = model(X_train)\n",
        "  loss = loss_func(y_pred, y_train)\n",
        "  loss.backward()\n",
        "  optimizer.step()\n",
        "  optimizer.zero_grad()\n",
        "\n",
        "score = (model(X_test).argmax(1) == y_test).sum() / len(y_test)\n",
        "print(score)"
      ],
      "metadata": {
        "colab": {
          "base_uri": "https://localhost:8080/"
        },
        "id": "EPQyFZhkvk0m",
        "outputId": "b206afb6-3d85-4afb-c6ab-3b462f6cb8d8"
      },
      "execution_count": 66,
      "outputs": [
        {
          "output_type": "stream",
          "name": "stdout",
          "text": [
            "tensor(0.9667)\n"
          ]
        }
      ]
    },
    {
      "cell_type": "markdown",
      "source": [
        "## Итог"
      ],
      "metadata": {
        "id": "9Tx1_4vJ52_O"
      }
    },
    {
      "cell_type": "markdown",
      "source": [
        "нейронная сеть хорошо справляется этим датасетом, выдавая хороший результат."
      ],
      "metadata": {
        "id": "EVezhoAp55bw"
      }
    },
    {
      "cell_type": "code",
      "source": [],
      "metadata": {
        "id": "BLcYcrS__ozq"
      },
      "execution_count": null,
      "outputs": []
    }
  ]
}